{
 "cells": [
  {
   "cell_type": "markdown",
   "id": "5308269c",
   "metadata": {},
   "source": [
    "# ASSIGNMENT - 5\n",
    "# Name-SAPNA KUMARI\n",
    "# refrence id - AIRSS1103\n",
    "# college -HMR INSTITUTE OF TECHNOLGY AND MANAGEMENT"
   ]
  },
  {
   "cell_type": "markdown",
   "id": "109194e8",
   "metadata": {},
   "source": [
    "### Q1. Given a list of integers, write a function to return the sum of all prime numbers in that list."
   ]
  },
  {
   "cell_type": "code",
   "execution_count": 2,
   "id": "2bdc8ddc",
   "metadata": {},
   "outputs": [
    {
     "name": "stdout",
     "output_type": "stream",
     "text": [
      "1 2 4 6 7\n",
      "9\n"
     ]
    }
   ],
   "source": [
    "numbers=input(\"\").split(' ')\n",
    "sum=0\n",
    "for n in numbers:\n",
    "    n=int(n)\n",
    "    isPrime=True\n",
    "    if n > 1:\n",
    "       \n",
    "        for i in range(2, n):\n",
    "            if (n % i) == 0:\n",
    "                isPrime=False\n",
    "                break\n",
    "        if isPrime:\n",
    "            sum+=n\n",
    "\n",
    "\n",
    "\n",
    "print(str(sum))"
   ]
  },
  {
   "cell_type": "markdown",
   "id": "748f869e",
   "metadata": {},
   "source": [
    "### Q2. Given a list of integers, write a function to check whether the list is strictly increasing or not."
   ]
  },
  {
   "cell_type": "code",
   "execution_count": 14,
   "id": "92d5677b",
   "metadata": {},
   "outputs": [
    {
     "name": "stdout",
     "output_type": "stream",
     "text": [
      "Original list : [1, 4, 5, 7, 8, 10]\n",
      "Is the list strictly increasing ? : True\n"
     ]
    }
   ],
   "source": [
    "list = [1, 4, 5, 7, 8, 10]\n",
    "  \n",
    "\n",
    "print (\"Original list : \" + str(list))\n",
    "  \n",
    "result = all(i < j for i, j in zip(list,list[1:]))\n",
    "  \n",
    "\n",
    "print (\"Is the list strictly increasing ? : \" + str(result))"
   ]
  },
  {
   "cell_type": "markdown",
   "id": "903f8180",
   "metadata": {},
   "source": [
    "### Q3. Write a function to check whether a given list is expanding or not (the difference between adjacent elements should keep on increasing)."
   ]
  },
  {
   "cell_type": "code",
   "execution_count": 9,
   "id": "8c1f3ba3",
   "metadata": {},
   "outputs": [],
   "source": [
    "def expand(m):\n",
    "    a = abs(m[1] - m[0])\n",
    "    b = abs(m[2] - m[1])\n",
    "    \n",
    "    if a >= b:\n",
    "        return False\n",
    "    \n",
    "    else:\n",
    "        for i in range(3,len(m)):\n",
    "            c = abs(m[i] - m[i-1])\n",
    "            if c <= b:\n",
    "                return False\n",
    "            b = c\n",
    "        else:\n",
    "            return True"
   ]
  },
  {
   "cell_type": "code",
   "execution_count": 15,
   "id": "2fcfeaad",
   "metadata": {},
   "outputs": [
    {
     "data": {
      "text/plain": [
       "False"
      ]
     },
     "execution_count": 15,
     "metadata": {},
     "output_type": "execute_result"
    }
   ],
   "source": [
    "expand([2,8,3,6,8])"
   ]
  },
  {
   "cell_type": "markdown",
   "id": "297f4622",
   "metadata": {},
   "source": [
    "### Q4. Write a function to calculate all permutations of a given string. (Without using itertools)"
   ]
  },
  {
   "cell_type": "code",
   "execution_count": 1,
   "id": "b9206feb",
   "metadata": {},
   "outputs": [
    {
     "name": "stdout",
     "output_type": "stream",
     "text": [
      "Enter the string : SAPNA\n",
      "All possible strings are : \n",
      "SAPNA  SAPAN  SANPA  SANAP  SAAPN  SAANP  SPANA  SPAAN  SPNAA  SPNAA  SPAAN  SPANA  SNAPA  SNAAP  SNPAA  SNPAA  SNAAP  SNAPA  SAAPN  SAANP  SAPAN  SAPNA  SANAP  SANPA  ASPNA  ASPAN  ASNPA  ASNAP  ASAPN  ASANP  APSNA  APSAN  APNSA  APNAS  APASN  APANS  ANSPA  ANSAP  ANPSA  ANPAS  ANASP  ANAPS  AASPN  AASNP  AAPSN  AAPNS  AANSP  AANPS  PSANA  PSAAN  PSNAA  PSNAA  PSAAN  PSANA  PASNA  PASAN  PANSA  PANAS  PAASN  PAANS  PNSAA  PNSAA  PNASA  PNAAS  PNASA  PNAAS  PASAN  PASNA  PAASN  PAANS  PANSA  PANAS  NSAPA  NSAAP  NSPAA  NSPAA  NSAAP  NSAPA  NASPA  NASAP  NAPSA  NAPAS  NAASP  NAAPS  NPSAA  NPSAA  NPASA  NPAAS  NPASA  NPAAS  NASAP  NASPA  NAASP  NAAPS  NAPSA  NAPAS  ASAPN  ASANP  ASPAN  ASPNA  ASNAP  ASNPA  AASPN  AASNP  AAPSN  AAPNS  AANSP  AANPS  APSAN  APSNA  APASN  APANS  APNSA  APNAS  ANSAP  ANSPA  ANASP  ANAPS  ANPSA  ANPAS  "
     ]
    }
   ],
   "source": [
    "def permutation(n, ans):\n",
    "    if (len(n) == 0):\n",
    "        print(ans, end = \"  \")\n",
    "        return\n",
    "     \n",
    "    for i in range(len(n)):\n",
    "        ch = n[i]\n",
    "        left = n[0:i]\n",
    "        right = n[i + 1:]\n",
    "        rest = left + right\n",
    "        permutation(rest, ans + ch)\n",
    " \n",
    "\n",
    "ans = \"\"\n",
    " \n",
    "n = input(\"Enter the string : \")\n",
    " \n",
    "print(\"All possible strings are : \")\n",
    "permutation(n, ans)"
   ]
  },
  {
   "cell_type": "code",
   "execution_count": null,
   "id": "1d29c2d8",
   "metadata": {},
   "outputs": [],
   "source": []
  }
 ],
 "metadata": {
  "kernelspec": {
   "display_name": "Python 3",
   "language": "python",
   "name": "python3"
  },
  "language_info": {
   "codemirror_mode": {
    "name": "ipython",
    "version": 3
   },
   "file_extension": ".py",
   "mimetype": "text/x-python",
   "name": "python",
   "nbconvert_exporter": "python",
   "pygments_lexer": "ipython3",
   "version": "3.8.8"
  }
 },
 "nbformat": 4,
 "nbformat_minor": 5
}
